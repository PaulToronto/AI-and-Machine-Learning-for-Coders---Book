{
  "nbformat": 4,
  "nbformat_minor": 0,
  "metadata": {
    "colab": {
      "provenance": [],
      "toc_visible": true,
      "authorship_tag": "ABX9TyPDsSrqvM5p6Zz2fdP1U/pn",
      "include_colab_link": true
    },
    "kernelspec": {
      "name": "python3",
      "display_name": "Python 3"
    },
    "language_info": {
      "name": "python"
    }
  },
  "cells": [
    {
      "cell_type": "markdown",
      "metadata": {
        "id": "view-in-github",
        "colab_type": "text"
      },
      "source": [
        "<a href=\"https://colab.research.google.com/github/PaulToronto/AI-and-Machine-Learning-for-Coders---Book/blob/main/3_2_Building_a_CNN_to_Distinguish_Between_Horses_and_Humans.ipynb\" target=\"_parent\"><img src=\"https://colab.research.google.com/assets/colab-badge.svg\" alt=\"Open In Colab\"/></a>"
      ]
    },
    {
      "cell_type": "markdown",
      "source": [
        "# Building a CNN to Distinguish Between Horses and Humans"
      ],
      "metadata": {
        "id": "gMwfgfMK64Dc"
      }
    },
    {
      "cell_type": "markdown",
      "source": [
        "## Imports"
      ],
      "metadata": {
        "id": "DnLPLGRF69sT"
      }
    },
    {
      "cell_type": "code",
      "execution_count": 2,
      "metadata": {
        "id": "UmdEv22S6l7g"
      },
      "outputs": [],
      "source": [
        "import urllib.request\n",
        "import zipfile"
      ]
    },
    {
      "cell_type": "markdown",
      "source": [
        "## The Dataset\n",
        "\n",
        "- In this dataset, the location of a feature is not always in the same place\n",
        "- Contains over 1000 $300 \\times 300$ images, approximately half each of horses and humans, rendered in different poses\n",
        "- The images have different lighting, different poses, different skin tones, different zoom levels, different backgrounds\n",
        "    - The classifier will have to determinee which parts of the image are important features for the classification, without being affected by the background"
      ],
      "metadata": {
        "id": "gcC39Ep67AEt"
      }
    },
    {
      "cell_type": "markdown",
      "source": [
        "### The Keras ImageDataGenerator\n",
        "\n",
        "- Many image based"
      ],
      "metadata": {
        "id": "8nksrN7R_D-i"
      }
    },
    {
      "cell_type": "code",
      "source": [
        "url = 'https://storage.googleapis.com/learning-datasets/horse-or-human.zip'\n",
        "training_dir = 'horse-or-human/training'\n",
        "file_name = 'horses-or-human.zip'"
      ],
      "metadata": {
        "id": "g8nEoSBD7El4"
      },
      "execution_count": 13,
      "outputs": []
    },
    {
      "cell_type": "code",
      "source": [
        "urllib.request.urlretrieve(url, file_name)"
      ],
      "metadata": {
        "colab": {
          "base_uri": "https://localhost:8080/"
        },
        "id": "XkE3JHtC7gF0",
        "outputId": "4226d66f-ba29-46c5-f325-9a3016cd8d18"
      },
      "execution_count": 12,
      "outputs": [
        {
          "output_type": "execute_result",
          "data": {
            "text/plain": [
              "('horses-or-human.zip', <http.client.HTTPMessage at 0x7f91f6753220>)"
            ]
          },
          "metadata": {},
          "execution_count": 12
        }
      ]
    },
    {
      "cell_type": "code",
      "source": [
        "zip_ref = zipfile.ZipFile(file_name, 'r')\n",
        "zip_ref.extractall(training_dir)\n",
        "zip_ref.close()"
      ],
      "metadata": {
        "id": "e1qHhI4582L-"
      },
      "execution_count": 15,
      "outputs": []
    }
  ]
}