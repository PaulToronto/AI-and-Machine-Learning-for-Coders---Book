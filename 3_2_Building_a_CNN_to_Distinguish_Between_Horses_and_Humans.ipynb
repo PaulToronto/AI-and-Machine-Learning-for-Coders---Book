{
  "nbformat": 4,
  "nbformat_minor": 0,
  "metadata": {
    "colab": {
      "provenance": [],
      "toc_visible": true,
      "machine_shape": "hm",
      "gpuType": "V28",
      "authorship_tag": "ABX9TyOLzSyjoOCh7uu/b4z88HVQ",
      "include_colab_link": true
    },
    "kernelspec": {
      "name": "python3",
      "display_name": "Python 3"
    },
    "language_info": {
      "name": "python"
    },
    "accelerator": "TPU"
  },
  "cells": [
    {
      "cell_type": "markdown",
      "metadata": {
        "id": "view-in-github",
        "colab_type": "text"
      },
      "source": [
        "<a href=\"https://colab.research.google.com/github/PaulToronto/AI-and-Machine-Learning-for-Coders---Book/blob/main/3_2_Building_a_CNN_to_Distinguish_Between_Horses_and_Humans.ipynb\" target=\"_parent\"><img src=\"https://colab.research.google.com/assets/colab-badge.svg\" alt=\"Open In Colab\"/></a>"
      ]
    },
    {
      "cell_type": "markdown",
      "source": [
        "# Building a CNN to Distinguish Between Horses and Humans"
      ],
      "metadata": {
        "id": "gMwfgfMK64Dc"
      }
    },
    {
      "cell_type": "markdown",
      "source": [
        "## Imports"
      ],
      "metadata": {
        "id": "DnLPLGRF69sT"
      }
    },
    {
      "cell_type": "code",
      "execution_count": 1,
      "metadata": {
        "id": "UmdEv22S6l7g"
      },
      "outputs": [],
      "source": [
        "import numpy as np\n",
        "\n",
        "import urllib.request\n",
        "import zipfile\n",
        "\n",
        "import tensorflow as tf\n",
        "\n",
        "from tensorflow.keras.preprocessing.image import ImageDataGenerator\n",
        "from tensorflow.keras.optimizers import RMSprop"
      ]
    },
    {
      "cell_type": "markdown",
      "source": [
        "## The Dataset\n",
        "\n",
        "- In this dataset, the location of a feature is not always in the same place\n",
        "- Contains over 1000 $300 \\times 300$ images, approximately half each of horses and humans, rendered in different poses\n",
        "- The images have different lighting, different poses, different skin tones, different zoom levels, different backgrounds\n",
        "    - The classifier will have to determinee which parts of the image are important features for the classification, without being affected by the background\n",
        "- These images are all computer generated"
      ],
      "metadata": {
        "id": "gcC39Ep67AEt"
      }
    },
    {
      "cell_type": "markdown",
      "source": [
        "### The Keras ImageDataGenerator\n",
        "\n",
        "- Many image-based datasets don't have labels, the images are sorted into subdirectories of each type\n",
        "- In Keras, a tool called `ImageDataGenerator` can use this directory structure to automatically assign labels to images"
      ],
      "metadata": {
        "id": "8nksrN7R_D-i"
      }
    },
    {
      "cell_type": "markdown",
      "source": [
        "#### Code to get the training data and extract it into appropriate named subdirectories"
      ],
      "metadata": {
        "id": "iIJM4tpysTH6"
      }
    },
    {
      "cell_type": "code",
      "source": [
        "training_url = 'https://storage.googleapis.com/learning-datasets/horse-or-human.zip'\n",
        "training_dir = 'horse-or-human/training'\n",
        "training_file_name = 'horses-or-human.zip'"
      ],
      "metadata": {
        "id": "g8nEoSBD7El4"
      },
      "execution_count": 2,
      "outputs": []
    },
    {
      "cell_type": "code",
      "source": [
        "urllib.request.urlretrieve(training_url, training_file_name)"
      ],
      "metadata": {
        "colab": {
          "base_uri": "https://localhost:8080/"
        },
        "id": "XkE3JHtC7gF0",
        "outputId": "2e94c98b-5f1a-474b-818f-d0bed5772002"
      },
      "execution_count": 3,
      "outputs": [
        {
          "output_type": "execute_result",
          "data": {
            "text/plain": [
              "('horses-or-human.zip', <http.client.HTTPMessage at 0x7ccf2eb8c2e0>)"
            ]
          },
          "metadata": {},
          "execution_count": 3
        }
      ]
    },
    {
      "cell_type": "code",
      "source": [
        "zip_ref = zipfile.ZipFile(training_file_name, 'r')\n",
        "zip_ref.extractall(training_dir)\n",
        "zip_ref.close()"
      ],
      "metadata": {
        "id": "e1qHhI4582L-"
      },
      "execution_count": 4,
      "outputs": []
    },
    {
      "cell_type": "code",
      "source": [
        "validation_url = 'https://storage.googleapis.com/learning-datasets/validation-horse-or-human.zip'\n",
        "validation_dir = 'horse-or-human/validation'\n",
        "validation_file_name = 'validation-horse-or-human.zip'"
      ],
      "metadata": {
        "id": "L1bBBJCvLQ0s"
      },
      "execution_count": 5,
      "outputs": []
    },
    {
      "cell_type": "code",
      "source": [
        "urllib.request.urlretrieve(validation_url, validation_file_name)"
      ],
      "metadata": {
        "colab": {
          "base_uri": "https://localhost:8080/"
        },
        "id": "fyBrEk2OMXSN",
        "outputId": "69bfcb1c-66c3-480b-fe20-2ee25ad2641a"
      },
      "execution_count": 6,
      "outputs": [
        {
          "output_type": "execute_result",
          "data": {
            "text/plain": [
              "('validation-horse-or-human.zip', <http.client.HTTPMessage at 0x7cd043b71fc0>)"
            ]
          },
          "metadata": {},
          "execution_count": 6
        }
      ]
    },
    {
      "cell_type": "code",
      "source": [
        "zip_ref = zipfile.ZipFile(validation_file_name, 'r')\n",
        "zip_ref.extractall(validation_dir)\n",
        "zip_ref.close()"
      ],
      "metadata": {
        "id": "8UeM7-p4NEMb"
      },
      "execution_count": 7,
      "outputs": []
    },
    {
      "cell_type": "markdown",
      "source": [
        "#### `ImageDataGenerator`"
      ],
      "metadata": {
        "id": "JYyh5-8nsvmL"
      }
    },
    {
      "cell_type": "code",
      "source": [
        "# all images will be rescaled by 1./255\n",
        "image_data_gen = ImageDataGenerator(rescale=1/255)\n",
        "print(type(image_data_gen))"
      ],
      "metadata": {
        "colab": {
          "base_uri": "https://localhost:8080/"
        },
        "id": "BxR7LsqpPM8w",
        "outputId": "2991e98a-29c2-4cba-91c3-bd3510703882"
      },
      "execution_count": 8,
      "outputs": [
        {
          "output_type": "stream",
          "name": "stdout",
          "text": [
            "<class 'keras.src.preprocessing.image.ImageDataGenerator'>\n"
          ]
        }
      ]
    },
    {
      "cell_type": "code",
      "source": [
        "training_generator = image_data_gen.flow_from_directory(\n",
        "    training_dir,\n",
        "    target_size=(300, 300),\n",
        "    class_mode='binary'\n",
        ")\n",
        "\n",
        "validation_generator = image_data_gen.flow_from_directory(\n",
        "    validation_dir,\n",
        "    target_size=(300, 300),\n",
        "    class_mode='binary'\n",
        ")"
      ],
      "metadata": {
        "colab": {
          "base_uri": "https://localhost:8080/"
        },
        "id": "Ug1c3gCLtG0a",
        "outputId": "c58be983-2bde-4ab6-a2dd-bfa9d791ab96"
      },
      "execution_count": 9,
      "outputs": [
        {
          "output_type": "stream",
          "name": "stdout",
          "text": [
            "Found 1027 images belonging to 2 classes.\n",
            "Found 256 images belonging to 2 classes.\n"
          ]
        }
      ]
    },
    {
      "cell_type": "code",
      "source": [
        "print(type(training_generator))\n",
        "print(type(validation_generator))"
      ],
      "metadata": {
        "colab": {
          "base_uri": "https://localhost:8080/"
        },
        "id": "AEw7u51iP558",
        "outputId": "e95f9a73-96ef-4187-8d4e-02f48f65af75"
      },
      "execution_count": 10,
      "outputs": [
        {
          "output_type": "stream",
          "name": "stdout",
          "text": [
            "<class 'keras.src.preprocessing.image.DirectoryIterator'>\n",
            "<class 'keras.src.preprocessing.image.DirectoryIterator'>\n"
          ]
        }
      ]
    },
    {
      "cell_type": "code",
      "source": [
        "training_generator.class_indices, validation_generator.class_indices"
      ],
      "metadata": {
        "colab": {
          "base_uri": "https://localhost:8080/"
        },
        "id": "uNv8_bFj1j0P",
        "outputId": "42c32283-bbaa-4d6c-f07c-02937fe89681"
      },
      "execution_count": 11,
      "outputs": [
        {
          "output_type": "execute_result",
          "data": {
            "text/plain": [
              "({'horses': 0, 'humans': 1}, {'horses': 0, 'humans': 1})"
            ]
          },
          "metadata": {},
          "execution_count": 11
        }
      ]
    },
    {
      "cell_type": "code",
      "source": [
        "(np.unique(training_generator.classes, return_counts=True),\n",
        " np.unique(validation_generator.classes, return_counts=True))"
      ],
      "metadata": {
        "colab": {
          "base_uri": "https://localhost:8080/"
        },
        "id": "nh9uZRP24WAk",
        "outputId": "c559e0d8-49fc-4431-e33b-a67ec0dad973"
      },
      "execution_count": 12,
      "outputs": [
        {
          "output_type": "execute_result",
          "data": {
            "text/plain": [
              "((array([0, 1], dtype=int32), array([500, 527])),\n",
              " (array([0, 1], dtype=int32), array([128, 128])))"
            ]
          },
          "metadata": {},
          "execution_count": 12
        }
      ]
    },
    {
      "cell_type": "code",
      "source": [
        "(len(training_generator.filenames),\n",
        " training_generator.filenames[:5],\n",
        " training_generator.filepaths[:5])"
      ],
      "metadata": {
        "colab": {
          "base_uri": "https://localhost:8080/"
        },
        "id": "n4KqHXar3kUi",
        "outputId": "85fdbf85-7ef7-4305-a5f6-aae1ef143855"
      },
      "execution_count": 13,
      "outputs": [
        {
          "output_type": "execute_result",
          "data": {
            "text/plain": [
              "(1027,\n",
              " ['horses/horse01-0.png',\n",
              "  'horses/horse01-1.png',\n",
              "  'horses/horse01-2.png',\n",
              "  'horses/horse01-3.png',\n",
              "  'horses/horse01-4.png'],\n",
              " ['horse-or-human/training/horses/horse01-0.png',\n",
              "  'horse-or-human/training/horses/horse01-1.png',\n",
              "  'horse-or-human/training/horses/horse01-2.png',\n",
              "  'horse-or-human/training/horses/horse01-3.png',\n",
              "  'horse-or-human/training/horses/horse01-4.png'])"
            ]
          },
          "metadata": {},
          "execution_count": 13
        }
      ]
    },
    {
      "cell_type": "code",
      "source": [
        "(len(validation_generator.filenames),\n",
        " validation_generator.filenames[:5],\n",
        " validation_generator.filepaths[:5])"
      ],
      "metadata": {
        "colab": {
          "base_uri": "https://localhost:8080/"
        },
        "id": "cVFNMLQ1QM-o",
        "outputId": "f28e1528-75ea-471c-d933-691a976a3fb2"
      },
      "execution_count": 14,
      "outputs": [
        {
          "output_type": "execute_result",
          "data": {
            "text/plain": [
              "(256,\n",
              " ['horses/horse1-000.png',\n",
              "  'horses/horse1-105.png',\n",
              "  'horses/horse1-122.png',\n",
              "  'horses/horse1-127.png',\n",
              "  'horses/horse1-170.png'],\n",
              " ['horse-or-human/validation/horses/horse1-000.png',\n",
              "  'horse-or-human/validation/horses/horse1-105.png',\n",
              "  'horse-or-human/validation/horses/horse1-122.png',\n",
              "  'horse-or-human/validation/horses/horse1-127.png',\n",
              "  'horse-or-human/validation/horses/horse1-170.png'])"
            ]
          },
          "metadata": {},
          "execution_count": 14
        }
      ]
    },
    {
      "cell_type": "markdown",
      "source": [
        "## CNN Architecture for Horses or Humans"
      ],
      "metadata": {
        "id": "lqk12WDJ6D_J"
      }
    },
    {
      "cell_type": "markdown",
      "source": [
        "There are several differences between this dataset and the Fashion MNIST one that you have to take into account when designing the architecture for classifying images:\n",
        "\n",
        "- images are much larger, $300 \\times 300$, so more layers may be needed\n",
        "- images are full colour, so each image has 3 channels instead of one\n",
        "- only two image types, so we have a binary classifier that can be implemented with just a single output neuron"
      ],
      "metadata": {
        "id": "0RQHaiUz6OIt"
      }
    },
    {
      "cell_type": "markdown",
      "source": [
        "## The Model"
      ],
      "metadata": {
        "id": "RDk3nn_A8b3l"
      }
    },
    {
      "cell_type": "code",
      "source": [
        "model = tf.keras.models.Sequential([\n",
        "\n",
        "    tf.keras.layers.Input(shape=(300, 300, 3)),\n",
        "\n",
        "    # 3 * 3 * 3 * 16 * 16 = 448 param\n",
        "    tf.keras.layers.Conv2D(16, (3, 3), activation='relu'),\n",
        "\n",
        "    # 0 param\n",
        "    tf.keras.layers.MaxPooling2D(2, 2),\n",
        "\n",
        "    # 3 * 3 * 32 * 16 + 32 = 4640 param\n",
        "    tf.keras.layers.Conv2D(32, (3, 3), activation='relu'),\n",
        "\n",
        "    # 0 param\n",
        "    tf.keras.layers.MaxPooling2D(2, 2),\n",
        "\n",
        "    # 3 * 3 * 64 * 32 + 64 = 18496 params\n",
        "    tf.keras.layers.Conv2D(64, (3, 3), activation='relu'),\n",
        "\n",
        "    # 0 param\n",
        "    tf.keras.layers.MaxPooling2D(2, 2),\n",
        "\n",
        "    # 3 * 3 * 64 * 64 + 64 = 36928 params\n",
        "    tf.keras.layers.Conv2D(64, (3, 3), activation='relu'),\n",
        "\n",
        "    # 0 param\n",
        "    tf.keras.layers.MaxPooling2D(2, 2),\n",
        "\n",
        "    # 3 * 3 * 64 * 64 + 64 = 36928 params\n",
        "    tf.keras.layers.Conv2D(64, (3, 3), activation='relu'),\n",
        "\n",
        "    # 0 param\n",
        "    tf.keras.layers.MaxPooling2D(2, 2),\n",
        "\n",
        "    # 0 param\n",
        "    tf.keras.layers.Flatten(),\n",
        "\n",
        "    # 512 * 3136 + 512 = 1606144 param\n",
        "    tf.keras.layers.Dense(512, activation='relu'),\n",
        "\n",
        "    # 1 * 512 + 1 = 513 param\n",
        "    tf.keras.layers.Dense(1, activation='sigmoid')\n",
        "])\n",
        "\n",
        "model.summary()"
      ],
      "metadata": {
        "colab": {
          "base_uri": "https://localhost:8080/"
        },
        "id": "_SfvZk3hvfgk",
        "outputId": "de85cbfc-352e-4410-b901-a446bb7c6b8d"
      },
      "execution_count": 15,
      "outputs": [
        {
          "output_type": "stream",
          "name": "stdout",
          "text": [
            "Model: \"sequential\"\n",
            "_________________________________________________________________\n",
            " Layer (type)                Output Shape              Param #   \n",
            "=================================================================\n",
            " conv2d (Conv2D)             (None, 298, 298, 16)      448       \n",
            "                                                                 \n",
            " max_pooling2d (MaxPooling2  (None, 149, 149, 16)      0         \n",
            " D)                                                              \n",
            "                                                                 \n",
            " conv2d_1 (Conv2D)           (None, 147, 147, 32)      4640      \n",
            "                                                                 \n",
            " max_pooling2d_1 (MaxPoolin  (None, 73, 73, 32)        0         \n",
            " g2D)                                                            \n",
            "                                                                 \n",
            " conv2d_2 (Conv2D)           (None, 71, 71, 64)        18496     \n",
            "                                                                 \n",
            " max_pooling2d_2 (MaxPoolin  (None, 35, 35, 64)        0         \n",
            " g2D)                                                            \n",
            "                                                                 \n",
            " conv2d_3 (Conv2D)           (None, 33, 33, 64)        36928     \n",
            "                                                                 \n",
            " max_pooling2d_3 (MaxPoolin  (None, 16, 16, 64)        0         \n",
            " g2D)                                                            \n",
            "                                                                 \n",
            " conv2d_4 (Conv2D)           (None, 14, 14, 64)        36928     \n",
            "                                                                 \n",
            " max_pooling2d_4 (MaxPoolin  (None, 7, 7, 64)          0         \n",
            " g2D)                                                            \n",
            "                                                                 \n",
            " flatten (Flatten)           (None, 3136)              0         \n",
            "                                                                 \n",
            " dense (Dense)               (None, 512)               1606144   \n",
            "                                                                 \n",
            " dense_1 (Dense)             (None, 1)                 513       \n",
            "                                                                 \n",
            "=================================================================\n",
            "Total params: 1704097 (6.50 MB)\n",
            "Trainable params: 1704097 (6.50 MB)\n",
            "Non-trainable params: 0 (0.00 Byte)\n",
            "_________________________________________________________________\n"
          ]
        }
      ]
    },
    {
      "cell_type": "markdown",
      "source": [
        "- Things to note about this code\n",
        " - First Layer:\n",
        "   - we are definining 16 filters of size $3 \\times 3$\n",
        "   - the input shape is $(300, 300, 3)$\n",
        "     - images have size $300 \\times 300$ plus 3 colour channels\n",
        " - Output Layer:\n",
        "   - a single nueron for a binary classifier that is activated by the `sigmoid` function\n",
        " - Stacked several convolutional layers\n",
        "    - image source is quite large\n",
        "    - we want, over time, to have many smaller images, each with features highlighted\n",
        "    - after all the convolutional and pooling layers, it ends up with items of shape $7 \\times 7$\n",
        "      - these 49 pixels are ready to be flattened and passed to the dense neural network for matching with appropriate labels\n",
        "  - We end up with more than 1.7 million parameters\n",
        "   - slower to train"
      ],
      "metadata": {
        "id": "LyBSDp9c4Lwt"
      }
    },
    {
      "cell_type": "markdown",
      "source": [
        "## Compilation\n",
        "\n",
        "- **loss function**: `binary_crossentropy` since there are only two classes\n",
        "- **optimizer**: *root mean square propagation,* `RMSProp`\n",
        " - it takes a learning rate parameter than allows us to tweak the learning"
      ],
      "metadata": {
        "id": "eu6fgu1Q_YUn"
      }
    },
    {
      "cell_type": "code",
      "source": [
        "model.compile(\n",
        "    loss='binary_crossentropy',\n",
        "    optimizer=RMSprop(learning_rate=0.001),\n",
        "    metrics=['accuracy']\n",
        ")"
      ],
      "metadata": {
        "id": "Gsx82_qoA6pd"
      },
      "execution_count": 16,
      "outputs": []
    },
    {
      "cell_type": "markdown",
      "source": [
        "## Train the Model"
      ],
      "metadata": {
        "id": "4zcPh7I5AvsK"
      }
    },
    {
      "cell_type": "code",
      "source": [
        "history = model.fit(training_generator, epochs=15)"
      ],
      "metadata": {
        "colab": {
          "base_uri": "https://localhost:8080/"
        },
        "id": "FTRuo_vKAJiu",
        "outputId": "3c838d90-274d-4fd1-ee22-5836f6b5928d"
      },
      "execution_count": 17,
      "outputs": [
        {
          "output_type": "stream",
          "name": "stdout",
          "text": [
            "Epoch 1/15\n",
            "33/33 [==============================] - 13s 364ms/step - loss: 0.6936 - accuracy: 0.6241\n",
            "Epoch 2/15\n",
            "33/33 [==============================] - 12s 366ms/step - loss: 0.4465 - accuracy: 0.8267\n",
            "Epoch 3/15\n",
            "33/33 [==============================] - 13s 372ms/step - loss: 0.2379 - accuracy: 0.9114\n",
            "Epoch 4/15\n",
            "33/33 [==============================] - 12s 365ms/step - loss: 0.1636 - accuracy: 0.9445\n",
            "Epoch 5/15\n",
            "33/33 [==============================] - 12s 362ms/step - loss: 0.2886 - accuracy: 0.9503\n",
            "Epoch 6/15\n",
            "33/33 [==============================] - 13s 371ms/step - loss: 0.1437 - accuracy: 0.9669\n",
            "Epoch 7/15\n",
            "33/33 [==============================] - 12s 365ms/step - loss: 0.0149 - accuracy: 0.9961\n",
            "Epoch 8/15\n",
            "33/33 [==============================] - 12s 360ms/step - loss: 0.2087 - accuracy: 0.9679\n",
            "Epoch 9/15\n",
            "33/33 [==============================] - 12s 366ms/step - loss: 0.0273 - accuracy: 0.9922\n",
            "Epoch 10/15\n",
            "33/33 [==============================] - 12s 364ms/step - loss: 0.0012 - accuracy: 1.0000\n",
            "Epoch 11/15\n",
            "33/33 [==============================] - 12s 365ms/step - loss: 2.0098e-04 - accuracy: 1.0000\n",
            "Epoch 12/15\n",
            "33/33 [==============================] - 12s 366ms/step - loss: 2.2916e-04 - accuracy: 1.0000\n",
            "Epoch 13/15\n",
            "33/33 [==============================] - 12s 363ms/step - loss: 1.1488e-05 - accuracy: 1.0000\n",
            "Epoch 14/15\n",
            "33/33 [==============================] - 12s 362ms/step - loss: 4.5149e-06 - accuracy: 1.0000\n",
            "Epoch 15/15\n",
            "33/33 [==============================] - 12s 367ms/step - loss: 1.9388e-06 - accuracy: 1.0000\n"
          ]
        }
      ]
    },
    {
      "cell_type": "markdown",
      "source": [
        "- After just 15 epochs we are getting a very impressive accuracy on the training set\n",
        "    - This is not an indication of performance on data that the network hasn't previously seen"
      ],
      "metadata": {
        "id": "lltmZZr3RkMN"
      }
    },
    {
      "cell_type": "markdown",
      "source": [
        "## Adding Validation to the Horses or Humans Dataset"
      ],
      "metadata": {
        "id": "kh9KFJDeSBJp"
      }
    },
    {
      "cell_type": "code",
      "source": [
        "history = model.fit(\n",
        "    training_generator,\n",
        "    epochs=15,\n",
        "    validation_data=validation_generator\n",
        ")"
      ],
      "metadata": {
        "colab": {
          "base_uri": "https://localhost:8080/"
        },
        "id": "XcxvzUisTwWC",
        "outputId": "4ddb8fc0-8d17-4cfc-d9bc-16dab9a8c134"
      },
      "execution_count": 18,
      "outputs": [
        {
          "output_type": "stream",
          "name": "stdout",
          "text": [
            "Epoch 1/15\n",
            "33/33 [==============================] - 14s 418ms/step - loss: 1.3197e-06 - accuracy: 1.0000 - val_loss: 4.4217 - val_accuracy: 0.8398\n",
            "Epoch 2/15\n",
            "33/33 [==============================] - 14s 410ms/step - loss: 1.6423e-06 - accuracy: 1.0000 - val_loss: 4.2282 - val_accuracy: 0.8398\n",
            "Epoch 3/15\n",
            "33/33 [==============================] - 14s 406ms/step - loss: 1.1280e-06 - accuracy: 1.0000 - val_loss: 4.3335 - val_accuracy: 0.8398\n",
            "Epoch 4/15\n",
            "33/33 [==============================] - 14s 419ms/step - loss: 7.7697e-07 - accuracy: 1.0000 - val_loss: 4.5210 - val_accuracy: 0.8398\n",
            "Epoch 5/15\n",
            "33/33 [==============================] - 14s 406ms/step - loss: 8.3799e-07 - accuracy: 1.0000 - val_loss: 4.4685 - val_accuracy: 0.8398\n",
            "Epoch 6/15\n",
            "33/33 [==============================] - 14s 411ms/step - loss: 6.4581e-07 - accuracy: 1.0000 - val_loss: 4.4004 - val_accuracy: 0.8398\n",
            "Epoch 7/15\n",
            "33/33 [==============================] - 14s 410ms/step - loss: 5.8408e-07 - accuracy: 1.0000 - val_loss: 4.4685 - val_accuracy: 0.8398\n",
            "Epoch 8/15\n",
            "33/33 [==============================] - 14s 413ms/step - loss: 5.4630e-07 - accuracy: 1.0000 - val_loss: 4.4848 - val_accuracy: 0.8398\n",
            "Epoch 9/15\n",
            "33/33 [==============================] - 14s 411ms/step - loss: 5.1163e-07 - accuracy: 1.0000 - val_loss: 4.4778 - val_accuracy: 0.8398\n",
            "Epoch 10/15\n",
            "33/33 [==============================] - 14s 403ms/step - loss: 4.8115e-07 - accuracy: 1.0000 - val_loss: 4.5234 - val_accuracy: 0.8398\n",
            "Epoch 11/15\n",
            "33/33 [==============================] - 14s 406ms/step - loss: 4.5254e-07 - accuracy: 1.0000 - val_loss: 4.5067 - val_accuracy: 0.8398\n",
            "Epoch 12/15\n",
            "33/33 [==============================] - 14s 410ms/step - loss: 4.1035e-07 - accuracy: 1.0000 - val_loss: 4.5632 - val_accuracy: 0.8398\n",
            "Epoch 13/15\n",
            "33/33 [==============================] - 14s 409ms/step - loss: 3.7973e-07 - accuracy: 1.0000 - val_loss: 4.4257 - val_accuracy: 0.8398\n",
            "Epoch 14/15\n",
            "33/33 [==============================] - 14s 404ms/step - loss: 4.5525e-07 - accuracy: 1.0000 - val_loss: 4.5530 - val_accuracy: 0.8398\n",
            "Epoch 15/15\n",
            "33/33 [==============================] - 14s 408ms/step - loss: 3.5298e-07 - accuracy: 1.0000 - val_loss: 4.5755 - val_accuracy: 0.8398\n"
          ]
        }
      ]
    },
    {
      "cell_type": "markdown",
      "source": [
        "- Still impressive accuracy on the training data\n",
        "- Just over 83% on the validation set\n",
        "    - Overfitting\n",
        "- The performance isn't bad considering how few images it was trained on"
      ],
      "metadata": {
        "id": "Mls0VIMQU_AE"
      }
    }
  ]
}